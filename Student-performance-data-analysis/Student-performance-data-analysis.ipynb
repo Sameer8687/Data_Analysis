{
 "cells": [
  {
   "cell_type": "code",
   "execution_count": 1,
   "id": "14911cb3",
   "metadata": {
    "execution": {
     "iopub.execute_input": "2023-06-06T04:28:20.201087Z",
     "iopub.status.busy": "2023-06-06T04:28:20.200443Z",
     "iopub.status.idle": "2023-06-06T04:28:21.682211Z",
     "shell.execute_reply": "2023-06-06T04:28:21.680678Z"
    },
    "papermill": {
     "duration": 1.502692,
     "end_time": "2023-06-06T04:28:21.684987",
     "exception": false,
     "start_time": "2023-06-06T04:28:20.182295",
     "status": "completed"
    },
    "tags": []
   },
   "outputs": [],
   "source": [
    "import numpy as np\n",
    "import pandas as pd\n",
    "import matplotlib.pyplot as plt\n",
    "import seaborn as sns\n",
    "import scipy.stats as spy"
   ]
  },
  {
   "cell_type": "code",
   "execution_count": 2,
   "id": "1e2c2f0d",
   "metadata": {
    "execution": {
     "iopub.execute_input": "2023-06-06T04:28:21.720380Z",
     "iopub.status.busy": "2023-06-06T04:28:21.720036Z",
     "iopub.status.idle": "2023-06-06T04:28:21.817011Z",
     "shell.execute_reply": "2023-06-06T04:28:21.816154Z"
    },
    "papermill": {
     "duration": 0.116879,
     "end_time": "2023-06-06T04:28:21.818958",
     "exception": false,
     "start_time": "2023-06-06T04:28:21.702079",
     "status": "completed"
    },
    "tags": []
   },
   "outputs": [
    {
     "data": {
      "text/html": [
       "<div>\n",
       "<style scoped>\n",
       "    .dataframe tbody tr th:only-of-type {\n",
       "        vertical-align: middle;\n",
       "    }\n",
       "\n",
       "    .dataframe tbody tr th {\n",
       "        vertical-align: top;\n",
       "    }\n",
       "\n",
       "    .dataframe thead th {\n",
       "        text-align: right;\n",
       "    }\n",
       "</style>\n",
       "<table border=\"1\" class=\"dataframe\">\n",
       "  <thead>\n",
       "    <tr style=\"text-align: right;\">\n",
       "      <th></th>\n",
       "      <th>Unnamed: 0</th>\n",
       "      <th>Gender</th>\n",
       "      <th>EthnicGroup</th>\n",
       "      <th>ParentEduc</th>\n",
       "      <th>LunchType</th>\n",
       "      <th>TestPrep</th>\n",
       "      <th>MathScore</th>\n",
       "      <th>ReadingScore</th>\n",
       "      <th>WritingScore</th>\n",
       "    </tr>\n",
       "  </thead>\n",
       "  <tbody>\n",
       "    <tr>\n",
       "      <th>0</th>\n",
       "      <td>0</td>\n",
       "      <td>female</td>\n",
       "      <td>Unknown</td>\n",
       "      <td>bachelor's degree</td>\n",
       "      <td>standard</td>\n",
       "      <td>none</td>\n",
       "      <td>71</td>\n",
       "      <td>71</td>\n",
       "      <td>74</td>\n",
       "    </tr>\n",
       "    <tr>\n",
       "      <th>1</th>\n",
       "      <td>1</td>\n",
       "      <td>female</td>\n",
       "      <td>group C</td>\n",
       "      <td>some college</td>\n",
       "      <td>standard</td>\n",
       "      <td>No</td>\n",
       "      <td>69</td>\n",
       "      <td>90</td>\n",
       "      <td>88</td>\n",
       "    </tr>\n",
       "    <tr>\n",
       "      <th>2</th>\n",
       "      <td>2</td>\n",
       "      <td>female</td>\n",
       "      <td>group B</td>\n",
       "      <td>master's degree</td>\n",
       "      <td>standard</td>\n",
       "      <td>none</td>\n",
       "      <td>87</td>\n",
       "      <td>93</td>\n",
       "      <td>91</td>\n",
       "    </tr>\n",
       "    <tr>\n",
       "      <th>3</th>\n",
       "      <td>3</td>\n",
       "      <td>male</td>\n",
       "      <td>group A</td>\n",
       "      <td>associate's degree</td>\n",
       "      <td>free/reduced</td>\n",
       "      <td>none</td>\n",
       "      <td>45</td>\n",
       "      <td>56</td>\n",
       "      <td>42</td>\n",
       "    </tr>\n",
       "    <tr>\n",
       "      <th>4</th>\n",
       "      <td>4</td>\n",
       "      <td>male</td>\n",
       "      <td>group C</td>\n",
       "      <td>some college</td>\n",
       "      <td>standard</td>\n",
       "      <td>none</td>\n",
       "      <td>76</td>\n",
       "      <td>78</td>\n",
       "      <td>75</td>\n",
       "    </tr>\n",
       "  </tbody>\n",
       "</table>\n",
       "</div>"
      ],
      "text/plain": [
       "   Unnamed: 0  Gender EthnicGroup          ParentEduc     LunchType TestPrep  \\\n",
       "0           0  female     Unknown   bachelor's degree      standard     none   \n",
       "1           1  female     group C        some college      standard       No   \n",
       "2           2  female     group B     master's degree      standard     none   \n",
       "3           3    male     group A  associate's degree  free/reduced     none   \n",
       "4           4    male     group C        some college      standard     none   \n",
       "\n",
       "   MathScore  ReadingScore  WritingScore  \n",
       "0         71            71            74  \n",
       "1         69            90            88  \n",
       "2         87            93            91  \n",
       "3         45            56            42  \n",
       "4         76            78            75  "
      ]
     },
     "execution_count": 2,
     "metadata": {},
     "output_type": "execute_result"
    }
   ],
   "source": [
    "df=pd.read_csv('Student_scores.csv')\n",
    "df.head()"
   ]
  },
  {
   "cell_type": "code",
   "execution_count": 4,
   "id": "ffb4b337",
   "metadata": {
    "execution": {
     "iopub.execute_input": "2023-06-06T04:28:21.904876Z",
     "iopub.status.busy": "2023-06-06T04:28:21.904137Z",
     "iopub.status.idle": "2023-06-06T04:28:21.910560Z",
     "shell.execute_reply": "2023-06-06T04:28:21.909276Z"
    },
    "papermill": {
     "duration": 0.027132,
     "end_time": "2023-06-06T04:28:21.912788",
     "exception": false,
     "start_time": "2023-06-06T04:28:21.885656",
     "status": "completed"
    },
    "tags": []
   },
   "outputs": [
    {
     "data": {
      "text/plain": [
       "(30641, 9)"
      ]
     },
     "execution_count": 4,
     "metadata": {},
     "output_type": "execute_result"
    }
   ],
   "source": [
    "df.shape"
   ]
  },
  {
   "cell_type": "code",
   "execution_count": 5,
   "id": "4aeedc4c",
   "metadata": {
    "execution": {
     "iopub.execute_input": "2023-06-06T04:28:21.948777Z",
     "iopub.status.busy": "2023-06-06T04:28:21.948420Z",
     "iopub.status.idle": "2023-06-06T04:28:21.979307Z",
     "shell.execute_reply": "2023-06-06T04:28:21.978015Z"
    },
    "papermill": {
     "duration": 0.051173,
     "end_time": "2023-06-06T04:28:21.981078",
     "exception": false,
     "start_time": "2023-06-06T04:28:21.929905",
     "status": "completed"
    },
    "tags": []
   },
   "outputs": [
    {
     "data": {
      "text/plain": [
       "Unnamed: 0      0\n",
       "Gender          0\n",
       "EthnicGroup     0\n",
       "ParentEduc      0\n",
       "LunchType       0\n",
       "TestPrep        0\n",
       "MathScore       0\n",
       "ReadingScore    0\n",
       "WritingScore    0\n",
       "dtype: int64"
      ]
     },
     "execution_count": 5,
     "metadata": {},
     "output_type": "execute_result"
    }
   ],
   "source": [
    "df.isna().sum()"
   ]
  },
  {
   "cell_type": "code",
   "execution_count": 6,
   "id": "4d58c1e3",
   "metadata": {
    "execution": {
     "iopub.execute_input": "2023-06-06T04:28:22.018495Z",
     "iopub.status.busy": "2023-06-06T04:28:22.017353Z",
     "iopub.status.idle": "2023-06-06T04:28:22.043998Z",
     "shell.execute_reply": "2023-06-06T04:28:22.043131Z"
    },
    "papermill": {
     "duration": 0.047019,
     "end_time": "2023-06-06T04:28:22.045985",
     "exception": false,
     "start_time": "2023-06-06T04:28:21.998966",
     "status": "completed"
    },
    "tags": []
   },
   "outputs": [
    {
     "data": {
      "text/plain": [
       "0"
      ]
     },
     "execution_count": 6,
     "metadata": {},
     "output_type": "execute_result"
    }
   ],
   "source": [
    "df.duplicated().sum()"
   ]
  },
  {
   "cell_type": "code",
   "execution_count": 7,
   "id": "57bbb084",
   "metadata": {
    "execution": {
     "iopub.execute_input": "2023-06-06T04:28:22.083774Z",
     "iopub.status.busy": "2023-06-06T04:28:22.083320Z",
     "iopub.status.idle": "2023-06-06T04:28:22.091693Z",
     "shell.execute_reply": "2023-06-06T04:28:22.090547Z"
    },
    "papermill": {
     "duration": 0.030281,
     "end_time": "2023-06-06T04:28:22.093741",
     "exception": false,
     "start_time": "2023-06-06T04:28:22.063460",
     "status": "completed"
    },
    "tags": []
   },
   "outputs": [
    {
     "data": {
      "text/plain": [
       "Unnamed: 0       int64\n",
       "Gender          object\n",
       "EthnicGroup     object\n",
       "ParentEduc      object\n",
       "LunchType       object\n",
       "TestPrep        object\n",
       "MathScore        int64\n",
       "ReadingScore     int64\n",
       "WritingScore     int64\n",
       "dtype: object"
      ]
     },
     "execution_count": 7,
     "metadata": {},
     "output_type": "execute_result"
    }
   ],
   "source": [
    "df.dtypes"
   ]
  },
  {
   "cell_type": "code",
   "execution_count": 8,
   "id": "b1c50e6b",
   "metadata": {
    "execution": {
     "iopub.execute_input": "2023-06-06T04:28:22.130959Z",
     "iopub.status.busy": "2023-06-06T04:28:22.130609Z",
     "iopub.status.idle": "2023-06-06T04:28:22.140146Z",
     "shell.execute_reply": "2023-06-06T04:28:22.138947Z"
    },
    "papermill": {
     "duration": 0.031011,
     "end_time": "2023-06-06T04:28:22.142536",
     "exception": false,
     "start_time": "2023-06-06T04:28:22.111525",
     "status": "completed"
    },
    "tags": []
   },
   "outputs": [
    {
     "data": {
      "text/plain": [
       "Index              128\n",
       "Unnamed: 0      245128\n",
       "Gender          245128\n",
       "EthnicGroup     245128\n",
       "ParentEduc      245128\n",
       "LunchType       245128\n",
       "TestPrep        245128\n",
       "MathScore       245128\n",
       "ReadingScore    245128\n",
       "WritingScore    245128\n",
       "dtype: int64"
      ]
     },
     "execution_count": 8,
     "metadata": {},
     "output_type": "execute_result"
    }
   ],
   "source": [
    "df.memory_usage()"
   ]
  },
  {
   "cell_type": "code",
   "execution_count": 9,
   "id": "c2674ea0",
   "metadata": {
    "execution": {
     "iopub.execute_input": "2023-06-06T04:28:22.179055Z",
     "iopub.status.busy": "2023-06-06T04:28:22.178679Z",
     "iopub.status.idle": "2023-06-06T04:28:22.185481Z",
     "shell.execute_reply": "2023-06-06T04:28:22.184290Z"
    },
    "papermill": {
     "duration": 0.02751,
     "end_time": "2023-06-06T04:28:22.187439",
     "exception": false,
     "start_time": "2023-06-06T04:28:22.159929",
     "status": "completed"
    },
    "tags": []
   },
   "outputs": [
    {
     "data": {
      "text/plain": [
       "Index(['Unnamed: 0', 'Gender', 'EthnicGroup', 'ParentEduc', 'LunchType',\n",
       "       'TestPrep', 'MathScore', 'ReadingScore', 'WritingScore'],\n",
       "      dtype='object')"
      ]
     },
     "execution_count": 9,
     "metadata": {},
     "output_type": "execute_result"
    }
   ],
   "source": [
    "df.columns"
   ]
  },
  {
   "cell_type": "code",
   "execution_count": 10,
   "id": "f8153416",
   "metadata": {
    "execution": {
     "iopub.execute_input": "2023-06-06T04:28:22.224977Z",
     "iopub.status.busy": "2023-06-06T04:28:22.224383Z",
     "iopub.status.idle": "2023-06-06T04:28:22.229049Z",
     "shell.execute_reply": "2023-06-06T04:28:22.228198Z"
    },
    "papermill": {
     "duration": 0.025592,
     "end_time": "2023-06-06T04:28:22.230909",
     "exception": false,
     "start_time": "2023-06-06T04:28:22.205317",
     "status": "completed"
    },
    "tags": []
   },
   "outputs": [],
   "source": [
    "df.rename(columns={'Unnamed: 0':'no_name'},inplace=True)"
   ]
  },
  {
   "cell_type": "code",
   "execution_count": 11,
   "id": "df47f783",
   "metadata": {
    "execution": {
     "iopub.execute_input": "2023-06-06T04:28:22.267725Z",
     "iopub.status.busy": "2023-06-06T04:28:22.267337Z",
     "iopub.status.idle": "2023-06-06T04:28:22.272800Z",
     "shell.execute_reply": "2023-06-06T04:28:22.272180Z"
    },
    "papermill": {
     "duration": 0.025608,
     "end_time": "2023-06-06T04:28:22.274298",
     "exception": false,
     "start_time": "2023-06-06T04:28:22.248690",
     "status": "completed"
    },
    "tags": []
   },
   "outputs": [
    {
     "data": {
      "text/plain": [
       "Index(['no_name', 'Gender', 'EthnicGroup', 'ParentEduc', 'LunchType',\n",
       "       'TestPrep', 'MathScore', 'ReadingScore', 'WritingScore'],\n",
       "      dtype='object')"
      ]
     },
     "execution_count": 11,
     "metadata": {},
     "output_type": "execute_result"
    }
   ],
   "source": [
    "df.columns"
   ]
  },
  {
   "cell_type": "code",
   "execution_count": 12,
   "id": "44767e11",
   "metadata": {
    "execution": {
     "iopub.execute_input": "2023-06-06T04:28:22.311751Z",
     "iopub.status.busy": "2023-06-06T04:28:22.311151Z",
     "iopub.status.idle": "2023-06-06T04:28:22.334468Z",
     "shell.execute_reply": "2023-06-06T04:28:22.333637Z"
    },
    "papermill": {
     "duration": 0.044306,
     "end_time": "2023-06-06T04:28:22.336276",
     "exception": false,
     "start_time": "2023-06-06T04:28:22.291970",
     "status": "completed"
    },
    "tags": []
   },
   "outputs": [
    {
     "data": {
      "text/html": [
       "<div>\n",
       "<style scoped>\n",
       "    .dataframe tbody tr th:only-of-type {\n",
       "        vertical-align: middle;\n",
       "    }\n",
       "\n",
       "    .dataframe tbody tr th {\n",
       "        vertical-align: top;\n",
       "    }\n",
       "\n",
       "    .dataframe thead th {\n",
       "        text-align: right;\n",
       "    }\n",
       "</style>\n",
       "<table border=\"1\" class=\"dataframe\">\n",
       "  <thead>\n",
       "    <tr style=\"text-align: right;\">\n",
       "      <th></th>\n",
       "      <th>no_name</th>\n",
       "      <th>MathScore</th>\n",
       "      <th>ReadingScore</th>\n",
       "      <th>WritingScore</th>\n",
       "    </tr>\n",
       "  </thead>\n",
       "  <tbody>\n",
       "    <tr>\n",
       "      <th>count</th>\n",
       "      <td>30641.000000</td>\n",
       "      <td>30641.000000</td>\n",
       "      <td>30641.000000</td>\n",
       "      <td>30641.000000</td>\n",
       "    </tr>\n",
       "    <tr>\n",
       "      <th>mean</th>\n",
       "      <td>499.556607</td>\n",
       "      <td>66.558402</td>\n",
       "      <td>69.377533</td>\n",
       "      <td>68.418622</td>\n",
       "    </tr>\n",
       "    <tr>\n",
       "      <th>std</th>\n",
       "      <td>288.747894</td>\n",
       "      <td>15.361616</td>\n",
       "      <td>14.758952</td>\n",
       "      <td>15.443525</td>\n",
       "    </tr>\n",
       "    <tr>\n",
       "      <th>min</th>\n",
       "      <td>0.000000</td>\n",
       "      <td>0.000000</td>\n",
       "      <td>10.000000</td>\n",
       "      <td>4.000000</td>\n",
       "    </tr>\n",
       "    <tr>\n",
       "      <th>25%</th>\n",
       "      <td>249.000000</td>\n",
       "      <td>56.000000</td>\n",
       "      <td>59.000000</td>\n",
       "      <td>58.000000</td>\n",
       "    </tr>\n",
       "    <tr>\n",
       "      <th>50%</th>\n",
       "      <td>500.000000</td>\n",
       "      <td>67.000000</td>\n",
       "      <td>70.000000</td>\n",
       "      <td>69.000000</td>\n",
       "    </tr>\n",
       "    <tr>\n",
       "      <th>75%</th>\n",
       "      <td>750.000000</td>\n",
       "      <td>78.000000</td>\n",
       "      <td>80.000000</td>\n",
       "      <td>79.000000</td>\n",
       "    </tr>\n",
       "    <tr>\n",
       "      <th>max</th>\n",
       "      <td>999.000000</td>\n",
       "      <td>100.000000</td>\n",
       "      <td>100.000000</td>\n",
       "      <td>100.000000</td>\n",
       "    </tr>\n",
       "  </tbody>\n",
       "</table>\n",
       "</div>"
      ],
      "text/plain": [
       "            no_name     MathScore  ReadingScore  WritingScore\n",
       "count  30641.000000  30641.000000  30641.000000  30641.000000\n",
       "mean     499.556607     66.558402     69.377533     68.418622\n",
       "std      288.747894     15.361616     14.758952     15.443525\n",
       "min        0.000000      0.000000     10.000000      4.000000\n",
       "25%      249.000000     56.000000     59.000000     58.000000\n",
       "50%      500.000000     67.000000     70.000000     69.000000\n",
       "75%      750.000000     78.000000     80.000000     79.000000\n",
       "max      999.000000    100.000000    100.000000    100.000000"
      ]
     },
     "execution_count": 12,
     "metadata": {},
     "output_type": "execute_result"
    }
   ],
   "source": [
    "df.describe()"
   ]
  },
  {
   "cell_type": "code",
   "execution_count": 13,
   "id": "d219c535",
   "metadata": {
    "execution": {
     "iopub.execute_input": "2023-06-06T04:28:22.373465Z",
     "iopub.status.busy": "2023-06-06T04:28:22.372469Z",
     "iopub.status.idle": "2023-06-06T04:28:22.384623Z",
     "shell.execute_reply": "2023-06-06T04:28:22.383913Z"
    },
    "papermill": {
     "duration": 0.032334,
     "end_time": "2023-06-06T04:28:22.386172",
     "exception": false,
     "start_time": "2023-06-06T04:28:22.353838",
     "status": "completed"
    },
    "tags": []
   },
   "outputs": [
    {
     "data": {
      "text/plain": [
       "female    15424\n",
       "male      15217\n",
       "Name: Gender, dtype: int64"
      ]
     },
     "execution_count": 13,
     "metadata": {},
     "output_type": "execute_result"
    }
   ],
   "source": [
    "df['Gender'].value_counts()"
   ]
  },
  {
   "cell_type": "code",
   "execution_count": 14,
   "id": "8a27b93d",
   "metadata": {
    "execution": {
     "iopub.execute_input": "2023-06-06T04:28:22.424134Z",
     "iopub.status.busy": "2023-06-06T04:28:22.423502Z",
     "iopub.status.idle": "2023-06-06T04:28:22.685260Z",
     "shell.execute_reply": "2023-06-06T04:28:22.684226Z"
    },
    "papermill": {
     "duration": 0.283878,
     "end_time": "2023-06-06T04:28:22.687868",
     "exception": false,
     "start_time": "2023-06-06T04:28:22.403990",
     "status": "completed"
    },
    "tags": []
   },
   "outputs": [
    {
     "data": {
      "image/png": "[encoded data removed]",
      "text/plain": [
       "<Figure size 432x288 with 1 Axes>"
      ]
     },
     "metadata": {
      "needs_background": "light"
     },
     "output_type": "display_data"
    }
   ],
   "source": [
    "sns.countplot(x='Gender',data=df,hue='Gender')\n",
    "plt.title('male vs female counting')\n",
    "plt.show()"
   ]
  },
  {
   "cell_type": "code",
   "execution_count": 15,
   "id": "75be677d",
   "metadata": {
    "execution": {
     "iopub.execute_input": "2023-06-06T04:28:22.725464Z",
     "iopub.status.busy": "2023-06-06T04:28:22.725142Z",
     "iopub.status.idle": "2023-06-06T04:28:22.737429Z",
     "shell.execute_reply": "2023-06-06T04:28:22.735628Z"
    },
    "papermill": {
     "duration": 0.034042,
     "end_time": "2023-06-06T04:28:22.740100",
     "exception": false,
     "start_time": "2023-06-06T04:28:22.706058",
     "status": "completed"
    },
    "tags": []
   },
   "outputs": [
    {
     "data": {
      "text/plain": [
       "group C    9212\n",
       "group D    7503\n",
       "group B    5826\n",
       "group E    4041\n",
       "group A    2219\n",
       "Unknown    1840\n",
       "Name: EthnicGroup, dtype: int64"
      ]
     },
     "execution_count": 15,
     "metadata": {},
     "output_type": "execute_result"
    }
   ],
   "source": [
    "df['EthnicGroup'].value_counts()"
   ]
  },
  {
   "cell_type": "code",
   "execution_count": 16,
   "id": "c9bf1058",
   "metadata": {
    "execution": {
     "iopub.execute_input": "2023-06-06T04:28:22.777622Z",
     "iopub.status.busy": "2023-06-06T04:28:22.777264Z",
     "iopub.status.idle": "2023-06-06T04:28:23.075635Z",
     "shell.execute_reply": "2023-06-06T04:28:23.074659Z"
    },
    "papermill": {
     "duration": 0.319065,
     "end_time": "2023-06-06T04:28:23.077532",
     "exception": false,
     "start_time": "2023-06-06T04:28:22.758467",
     "status": "completed"
    },
    "tags": []
   },
   "outputs": [
    {
     "data": {
      "image/png": "[encoded data removed]",
      "text/plain": [
       "<Figure size 432x288 with 1 Axes>"
      ]
     },
     "metadata": {
      "needs_background": "light"
     },
     "output_type": "display_data"
    }
   ],
   "source": [
    "sns.countplot(x='EthnicGroup',data=df,hue='EthnicGroup')\n",
    "plt.title('EthnicGroup counting')\n",
    "plt.show()"
   ]
  },
  {
   "cell_type": "code",
   "execution_count": 17,
   "id": "2dc4f474",
   "metadata": {
    "execution": {
     "iopub.execute_input": "2023-06-06T04:28:23.116190Z",
     "iopub.status.busy": "2023-06-06T04:28:23.115865Z",
     "iopub.status.idle": "2023-06-06T04:28:23.126596Z",
     "shell.execute_reply": "2023-06-06T04:28:23.125442Z"
    },
    "papermill": {
     "duration": 0.032483,
     "end_time": "2023-06-06T04:28:23.128659",
     "exception": false,
     "start_time": "2023-06-06T04:28:23.096176",
     "status": "completed"
    },
    "tags": []
   },
   "outputs": [
    {
     "data": {
      "text/plain": [
       "some college          6633\n",
       "high school           5687\n",
       "associate's degree    5550\n",
       "some high school      5517\n",
       "bachelor's degree     3386\n",
       "master's degree       2023\n",
       "Unknown               1845\n",
       "Name: ParentEduc, dtype: int64"
      ]
     },
     "execution_count": 17,
     "metadata": {},
     "output_type": "execute_result"
    }
   ],
   "source": [
    "df['ParentEduc'].value_counts()"
   ]
  },
  {
   "cell_type": "markdown",
   "id": "cdc84b75",
   "metadata": {
    "papermill": {
     "duration": 0.018981,
     "end_time": "2023-06-06T04:28:23.167129",
     "exception": false,
     "start_time": "2023-06-06T04:28:23.148148",
     "status": "completed"
    },
    "tags": []
   },
   "source": [
    "## Note:-Making an assumption that \"some college\" is equal to \"bachelor's degree\" and \"high school\" is equal to \"some high school\""
   ]
  },
  {
   "cell_type": "code",
   "execution_count": 18,
   "id": "ebdb03de",
   "metadata": {
    "execution": {
     "iopub.execute_input": "2023-06-06T04:28:23.207472Z",
     "iopub.status.busy": "2023-06-06T04:28:23.207122Z",
     "iopub.status.idle": "2023-06-06T04:28:23.215035Z",
     "shell.execute_reply": "2023-06-06T04:28:23.214110Z"
    },
    "papermill": {
     "duration": 0.03095,
     "end_time": "2023-06-06T04:28:23.217206",
     "exception": false,
     "start_time": "2023-06-06T04:28:23.186256",
     "status": "completed"
    },
    "tags": []
   },
   "outputs": [],
   "source": [
    "df['ParentEduc']=df['ParentEduc'].replace('some high school','high school')"
   ]
  },
  {
   "cell_type": "code",
   "execution_count": 19,
   "id": "8293adc0",
   "metadata": {
    "execution": {
     "iopub.execute_input": "2023-06-06T04:28:23.263617Z",
     "iopub.status.busy": "2023-06-06T04:28:23.263038Z",
     "iopub.status.idle": "2023-06-06T04:28:23.269400Z",
     "shell.execute_reply": "2023-06-06T04:28:23.267861Z"
    },
    "papermill": {
     "duration": 0.032326,
     "end_time": "2023-06-06T04:28:23.271837",
     "exception": false,
     "start_time": "2023-06-06T04:28:23.239511",
     "status": "completed"
    },
    "tags": []
   },
   "outputs": [],
   "source": [
    "df['ParentEduc']=df['ParentEduc'].replace('some college',\"bachelor's degree\")"
   ]
  },
  {
   "cell_type": "code",
   "execution_count": 20,
   "id": "857941ba",
   "metadata": {
    "execution": {
     "iopub.execute_input": "2023-06-06T04:28:23.311311Z",
     "iopub.status.busy": "2023-06-06T04:28:23.310935Z",
     "iopub.status.idle": "2023-06-06T04:28:23.321555Z",
     "shell.execute_reply": "2023-06-06T04:28:23.320324Z"
    },
    "papermill": {
     "duration": 0.032985,
     "end_time": "2023-06-06T04:28:23.323915",
     "exception": false,
     "start_time": "2023-06-06T04:28:23.290930",
     "status": "completed"
    },
    "tags": []
   },
   "outputs": [
    {
     "data": {
      "text/plain": [
       "high school           11204\n",
       "bachelor's degree     10019\n",
       "associate's degree     5550\n",
       "master's degree        2023\n",
       "Unknown                1845\n",
       "Name: ParentEduc, dtype: int64"
      ]
     },
     "execution_count": 20,
     "metadata": {},
     "output_type": "execute_result"
    }
   ],
   "source": [
    "df['ParentEduc'].value_counts()"
   ]
  },
  {
   "cell_type": "code",
   "execution_count": 21,
   "id": "aaee4a2f",
   "metadata": {
    "execution": {
     "iopub.execute_input": "2023-06-06T04:28:23.364052Z",
     "iopub.status.busy": "2023-06-06T04:28:23.363695Z",
     "iopub.status.idle": "2023-06-06T04:28:23.634237Z",
     "shell.execute_reply": "2023-06-06T04:28:23.633014Z"
    },
    "papermill": {
     "duration": 0.293491,
     "end_time": "2023-06-06T04:28:23.636682",
     "exception": false,
     "start_time": "2023-06-06T04:28:23.343191",
     "status": "completed"
    },
    "tags": []
   },
   "outputs": [
    {
     "data": {
      "image/png": "[encoded data removed]",
      "text/plain": [
       "<Figure size 432x288 with 1 Axes>"
      ]
     },
     "metadata": {
      "needs_background": "light"
     },
     "output_type": "display_data"
    }
   ],
   "source": [
    "sns.countplot(y='ParentEduc',data=df,hue='ParentEduc')\n",
    "plt.title('ParentEduc counting')\n",
    "plt.show()"
   ]
  },
  {
   "cell_type": "code",
   "execution_count": 22,
   "id": "95d71dc6",
   "metadata": {
    "execution": {
     "iopub.execute_input": "2023-06-06T04:28:23.677081Z",
     "iopub.status.busy": "2023-06-06T04:28:23.676701Z",
     "iopub.status.idle": "2023-06-06T04:28:23.686138Z",
     "shell.execute_reply": "2023-06-06T04:28:23.684870Z"
    },
    "papermill": {
     "duration": 0.031835,
     "end_time": "2023-06-06T04:28:23.687890",
     "exception": false,
     "start_time": "2023-06-06T04:28:23.656055",
     "status": "completed"
    },
    "tags": []
   },
   "outputs": [
    {
     "data": {
      "text/plain": [
       "standard        19905\n",
       "free/reduced    10736\n",
       "Name: LunchType, dtype: int64"
      ]
     },
     "execution_count": 22,
     "metadata": {},
     "output_type": "execute_result"
    }
   ],
   "source": [
    "df['LunchType'].value_counts()"
   ]
  },
  {
   "cell_type": "code",
   "execution_count": 23,
   "id": "5f7e79ea",
   "metadata": {
    "execution": {
     "iopub.execute_input": "2023-06-06T04:28:23.728750Z",
     "iopub.status.busy": "2023-06-06T04:28:23.728339Z",
     "iopub.status.idle": "2023-06-06T04:28:23.963439Z",
     "shell.execute_reply": "2023-06-06T04:28:23.962797Z"
    },
    "papermill": {
     "duration": 0.258148,
     "end_time": "2023-06-06T04:28:23.965686",
     "exception": false,
     "start_time": "2023-06-06T04:28:23.707538",
     "status": "completed"
    },
    "tags": []
   },
   "outputs": [
    {
     "data": {
      "image/png": "[encoded data removed]",
      "text/plain": [
       "<Figure size 432x288 with 1 Axes>"
      ]
     },
     "metadata": {
      "needs_background": "light"
     },
     "output_type": "display_data"
    }
   ],
   "source": [
    "sns.countplot(x='LunchType',data=df,hue='LunchType')\n",
    "plt.title('LunchType counting')\n",
    "plt.show()"
   ]
  },
  {
   "cell_type": "code",
   "execution_count": 24,
   "id": "7775f343",
   "metadata": {
    "execution": {
     "iopub.execute_input": "2023-06-06T04:28:24.009140Z",
     "iopub.status.busy": "2023-06-06T04:28:24.008026Z",
     "iopub.status.idle": "2023-06-06T04:28:24.016532Z",
     "shell.execute_reply": "2023-06-06T04:28:24.015826Z"
    },
    "papermill": {
     "duration": 0.032832,
     "end_time": "2023-06-06T04:28:24.018891",
     "exception": false,
     "start_time": "2023-06-06T04:28:23.986059",
     "status": "completed"
    },
    "tags": []
   },
   "outputs": [
    {
     "data": {
      "text/plain": [
       "none         18856\n",
       "completed     9955\n",
       "No            1830\n",
       "Name: TestPrep, dtype: int64"
      ]
     },
     "execution_count": 24,
     "metadata": {},
     "output_type": "execute_result"
    }
   ],
   "source": [
    "df['TestPrep'].value_counts()"
   ]
  },
  {
   "cell_type": "code",
   "execution_count": 25,
   "id": "678b3ecb",
   "metadata": {
    "execution": {
     "iopub.execute_input": "2023-06-06T04:28:24.060827Z",
     "iopub.status.busy": "2023-06-06T04:28:24.059928Z",
     "iopub.status.idle": "2023-06-06T04:28:24.285905Z",
     "shell.execute_reply": "2023-06-06T04:28:24.284458Z"
    },
    "papermill": {
     "duration": 0.249981,
     "end_time": "2023-06-06T04:28:24.288821",
     "exception": false,
     "start_time": "2023-06-06T04:28:24.038840",
     "status": "completed"
    },
    "tags": []
   },
   "outputs": [
    {
     "data": {
      "image/png": "[encoded data removed]",
      "text/plain": [
       "<Figure size 432x288 with 1 Axes>"
      ]
     },
     "metadata": {
      "needs_background": "light"
     },
     "output_type": "display_data"
    }
   ],
   "source": [
    "sns.countplot(x='TestPrep',data=df,hue='TestPrep')\n",
    "plt.title('TestPrep counting')\n",
    "plt.show()"
   ]
  },
  {
   "cell_type": "code",
   "execution_count": 26,
   "id": "da92c618",
   "metadata": {
    "execution": {
     "iopub.execute_input": "2023-06-06T04:28:24.332726Z",
     "iopub.status.busy": "2023-06-06T04:28:24.332338Z",
     "iopub.status.idle": "2023-06-06T04:28:24.542240Z",
     "shell.execute_reply": "2023-06-06T04:28:24.541112Z"
    },
    "papermill": {
     "duration": 0.234154,
     "end_time": "2023-06-06T04:28:24.543917",
     "exception": false,
     "start_time": "2023-06-06T04:28:24.309763",
     "status": "completed"
    },
    "tags": []
   },
   "outputs": [
    {
     "data": {
      "text/plain": [
       "(array([7.000e+00, 4.100e+01, 2.340e+02, 1.014e+03, 2.940e+03, 5.629e+03,\n",
       "        7.395e+03, 6.923e+03, 4.366e+03, 2.092e+03]),\n",
       " array([  0.,  10.,  20.,  30.,  40.,  50.,  60.,  70.,  80.,  90., 100.]),\n",
       " <BarContainer object of 10 artists>)"
      ]
     },
     "execution_count": 26,
     "metadata": {},
     "output_type": "execute_result"
    },
    {
     "data": {
      "image/png": "[encoded data removed]",
      "text/plain": [
       "<Figure size 432x288 with 1 Axes>"
      ]
     },
     "metadata": {
      "needs_background": "light"
     },
     "output_type": "display_data"
    }
   ],
   "source": [
    "plt.hist(df['MathScore'])"
   ]
  },
  {
   "cell_type": "code",
   "execution_count": 27,
   "id": "e2d536ff",
   "metadata": {
    "execution": {
     "iopub.execute_input": "2023-06-06T04:28:24.589444Z",
     "iopub.status.busy": "2023-06-06T04:28:24.588352Z",
     "iopub.status.idle": "2023-06-06T04:28:24.786630Z",
     "shell.execute_reply": "2023-06-06T04:28:24.785897Z"
    },
    "papermill": {
     "duration": 0.223529,
     "end_time": "2023-06-06T04:28:24.788298",
     "exception": false,
     "start_time": "2023-06-06T04:28:24.564769",
     "status": "completed"
    },
    "tags": []
   },
   "outputs": [
    {
     "data": {
      "text/plain": [
       "(array([  21.,   69.,  361., 1278., 3186., 5680., 6913., 6365., 4372.,\n",
       "        2396.]),\n",
       " array([ 10.,  19.,  28.,  37.,  46.,  55.,  64.,  73.,  82.,  91., 100.]),\n",
       " <BarContainer object of 10 artists>)"
      ]
     },
     "execution_count": 27,
     "metadata": {},
     "output_type": "execute_result"
    },
    {
     "data": {
      "image/png": "[encoded data removed]",
      "text/plain": [
       "<Figure size 432x288 with 1 Axes>"
      ]
     },
     "metadata": {
      "needs_background": "light"
     },
     "output_type": "display_data"
    }
   ],
   "source": [
    "plt.hist(df['ReadingScore'])"
   ]
  },
  {
   "cell_type": "code",
   "execution_count": 28,
   "id": "74c9e8be",
   "metadata": {
    "execution": {
     "iopub.execute_input": "2023-06-06T04:28:24.831579Z",
     "iopub.status.busy": "2023-06-06T04:28:24.830976Z",
     "iopub.status.idle": "2023-06-06T04:28:25.022545Z",
     "shell.execute_reply": "2023-06-06T04:28:25.021614Z"
    },
    "papermill": {
     "duration": 0.215546,
     "end_time": "2023-06-06T04:28:25.024482",
     "exception": false,
     "start_time": "2023-06-06T04:28:24.808936",
     "status": "completed"
    },
    "tags": []
   },
   "outputs": [
    {
     "data": {
      "text/plain": [
       "(array([7.000e+00, 6.300e+01, 2.600e+02, 1.201e+03, 2.802e+03, 5.709e+03,\n",
       "        7.411e+03, 6.250e+03, 4.463e+03, 2.475e+03]),\n",
       " array([  4. ,  13.6,  23.2,  32.8,  42.4,  52. ,  61.6,  71.2,  80.8,\n",
       "         90.4, 100. ]),\n",
       " <BarContainer object of 10 artists>)"
      ]
     },
     "execution_count": 28,
     "metadata": {},
     "output_type": "execute_result"
    },
    {
     "data": {
      "image/png": "[encoded data removed]",
      "text/plain": [
       "<Figure size 432x288 with 1 Axes>"
      ]
     },
     "metadata": {
      "needs_background": "light"
     },
     "output_type": "display_data"
    }
   ],
   "source": [
    "plt.hist(df['WritingScore'])"
   ]
  },
  {
   "cell_type": "code",
   "execution_count": 29,
   "id": "7e1638f9",
   "metadata": {
    "execution": {
     "iopub.execute_input": "2023-06-06T04:28:25.070347Z",
     "iopub.status.busy": "2023-06-06T04:28:25.069955Z",
     "iopub.status.idle": "2023-06-06T04:28:25.321748Z",
     "shell.execute_reply": "2023-06-06T04:28:25.320555Z"
    },
    "papermill": {
     "duration": 0.277497,
     "end_time": "2023-06-06T04:28:25.323918",
     "exception": false,
     "start_time": "2023-06-06T04:28:25.046421",
     "status": "completed"
    },
    "tags": []
   },
   "outputs": [
    {
     "data": {
      "image/png": "[encoded data removed]",
      "text/plain": [
       "<Figure size 432x288 with 1 Axes>"
      ]
     },
     "metadata": {
      "needs_background": "light"
     },
     "output_type": "display_data"
    }
   ],
   "source": [
    "sns.boxplot(x='Gender',y='MathScore',data=df,hue='Gender')\n",
    "plt.title('Gender Wise Math Score Range')\n",
    "plt.show()"
   ]
  },
  {
   "cell_type": "code",
   "execution_count": 30,
   "id": "25b17818",
   "metadata": {
    "execution": {
     "iopub.execute_input": "2023-06-06T04:28:25.375268Z",
     "iopub.status.busy": "2023-06-06T04:28:25.373977Z",
     "iopub.status.idle": "2023-06-06T04:28:25.621649Z",
     "shell.execute_reply": "2023-06-06T04:28:25.620958Z"
    },
    "papermill": {
     "duration": 0.275453,
     "end_time": "2023-06-06T04:28:25.623346",
     "exception": false,
     "start_time": "2023-06-06T04:28:25.347893",
     "status": "completed"
    },
    "tags": []
   },
   "outputs": [
    {
     "data": {
      "image/png": "[encoded data removed]",
      "text/plain": [
       "<Figure size 432x288 with 1 Axes>"
      ]
     },
     "metadata": {
      "needs_background": "light"
     },
     "output_type": "display_data"
    }
   ],
   "source": [
    "sns.boxplot(x='Gender',y='ReadingScore',data=df,hue='Gender')\n",
    "plt.title('Gender Wise Reading Score Range')\n",
    "plt.show()"
   ]
  },
  {
   "cell_type": "code",
   "execution_count": 31,
   "id": "c35a6ade",
   "metadata": {
    "execution": {
     "iopub.execute_input": "2023-06-06T04:28:25.670272Z",
     "iopub.status.busy": "2023-06-06T04:28:25.669454Z",
     "iopub.status.idle": "2023-06-06T04:28:25.924334Z",
     "shell.execute_reply": "2023-06-06T04:28:25.923248Z"
    },
    "papermill": {
     "duration": 0.280215,
     "end_time": "2023-06-06T04:28:25.926109",
     "exception": false,
     "start_time": "2023-06-06T04:28:25.645894",
     "status": "completed"
    },
    "tags": []
   },
   "outputs": [
    {
     "data": {
      "image/png": "[encoded data removed]",
      "text/plain": [
       "<Figure size 432x288 with 1 Axes>"
      ]
     },
     "metadata": {
      "needs_background": "light"
     },
     "output_type": "display_data"
    }
   ],
   "source": [
    "sns.boxplot(x='Gender',y='WritingScore',data=df,hue='Gender')\n",
    "plt.title('Gender Wise Writing Score Range')\n",
    "plt.show()"
   ]
  },
  {
   "cell_type": "code",
   "execution_count": 32,
   "id": "7ec9dc14",
   "metadata": {
    "execution": {
     "iopub.execute_input": "2023-06-06T04:28:25.972891Z",
     "iopub.status.busy": "2023-06-06T04:28:25.972183Z",
     "iopub.status.idle": "2023-06-06T04:28:26.197390Z",
     "shell.execute_reply": "2023-06-06T04:28:26.196395Z"
    },
    "papermill": {
     "duration": 0.251058,
     "end_time": "2023-06-06T04:28:26.199684",
     "exception": false,
     "start_time": "2023-06-06T04:28:25.948626",
     "status": "completed"
    },
    "tags": []
   },
   "outputs": [
    {
     "data": {
      "image/png": "[encoded data removed]",
      "text/plain": [
       "<Figure size 432x288 with 1 Axes>"
      ]
     },
     "metadata": {
      "needs_background": "light"
     },
     "output_type": "display_data"
    }
   ],
   "source": [
    "sns.countplot(x='Gender',hue='ParentEduc',data=df)\n",
    "plt.title('Male vs Female Counting By Their degree')\n",
    "plt.show()"
   ]
  },
  {
   "cell_type": "code",
   "execution_count": 33,
   "id": "3f1006d4",
   "metadata": {
    "execution": {
     "iopub.execute_input": "2023-06-06T04:28:26.246208Z",
     "iopub.status.busy": "2023-06-06T04:28:26.245896Z",
     "iopub.status.idle": "2023-06-06T04:28:26.479149Z",
     "shell.execute_reply": "2023-06-06T04:28:26.478134Z"
    },
    "papermill": {
     "duration": 0.25898,
     "end_time": "2023-06-06T04:28:26.481224",
     "exception": false,
     "start_time": "2023-06-06T04:28:26.222244",
     "status": "completed"
    },
    "tags": []
   },
   "outputs": [
    {
     "data": {
      "image/png": "[encoded data removed]",
      "text/plain": [
       "<Figure size 432x288 with 1 Axes>"
      ]
     },
     "metadata": {
      "needs_background": "light"
     },
     "output_type": "display_data"
    }
   ],
   "source": [
    "sns.countplot(x='Gender',hue='EthnicGroup',data=df)\n",
    "plt.title('Male vs Female Counting By Their EthnicGroup')\n",
    "plt.show()"
   ]
  },
  {
   "cell_type": "code",
   "execution_count": 34,
   "id": "7a4fc424",
   "metadata": {
    "execution": {
     "iopub.execute_input": "2023-06-06T04:28:26.532280Z",
     "iopub.status.busy": "2023-06-06T04:28:26.531682Z",
     "iopub.status.idle": "2023-06-06T04:28:26.713386Z",
     "shell.execute_reply": "2023-06-06T04:28:26.712398Z"
    },
    "papermill": {
     "duration": 0.208501,
     "end_time": "2023-06-06T04:28:26.715252",
     "exception": false,
     "start_time": "2023-06-06T04:28:26.506751",
     "status": "completed"
    },
    "tags": []
   },
   "outputs": [
    {
     "data": {
      "image/png": "[encoded data removed]",
      "text/plain": [
       "<Figure size 432x288 with 1 Axes>"
      ]
     },
     "metadata": {
      "needs_background": "light"
     },
     "output_type": "display_data"
    }
   ],
   "source": [
    "sns.boxplot(y='ParentEduc',x='MathScore',data=df)\n",
    "plt.title('Parent Education Wise Math Score Range')\n",
    "plt.show()"
   ]
  },
  {
   "cell_type": "code",
   "execution_count": 35,
   "id": "21ed1165",
   "metadata": {
    "execution": {
     "iopub.execute_input": "2023-06-06T04:28:26.763525Z",
     "iopub.status.busy": "2023-06-06T04:28:26.763183Z",
     "iopub.status.idle": "2023-06-06T04:28:26.935816Z",
     "shell.execute_reply": "2023-06-06T04:28:26.934932Z"
    },
    "papermill": {
     "duration": 0.198832,
     "end_time": "2023-06-06T04:28:26.937633",
     "exception": false,
     "start_time": "2023-06-06T04:28:26.738801",
     "status": "completed"
    },
    "tags": []
   },
   "outputs": [
    {
     "data": {
      "image/png": "[encoded data removed]",
      "text/plain": [
       "<Figure size 432x288 with 1 Axes>"
      ]
     },
     "metadata": {
      "needs_background": "light"
     },
     "output_type": "display_data"
    }
   ],
   "source": [
    "sns.boxplot(y='ParentEduc',x='ReadingScore',data=df)\n",
    "plt.title('Parent Education Wise Reading Score Range')\n",
    "plt.show()"
   ]
  },
  {
   "cell_type": "code",
   "execution_count": 36,
   "id": "fabce69e",
   "metadata": {
    "execution": {
     "iopub.execute_input": "2023-06-06T04:28:26.988407Z",
     "iopub.status.busy": "2023-06-06T04:28:26.987511Z",
     "iopub.status.idle": "2023-06-06T04:28:27.323933Z",
     "shell.execute_reply": "2023-06-06T04:28:27.322199Z"
    },
    "papermill": {
     "duration": 0.364956,
     "end_time": "2023-06-06T04:28:27.326733",
     "exception": false,
     "start_time": "2023-06-06T04:28:26.961777",
     "status": "completed"
    },
    "tags": []
   },
   "outputs": [
    {
     "data": {
      "image/png": "[encoded data removed]",
      "text/plain": [
       "<Figure size 432x288 with 1 Axes>"
      ]
     },
     "metadata": {
      "needs_background": "light"
     },
     "output_type": "display_data"
    }
   ],
   "source": [
    "sns.boxplot(y='ParentEduc',x='WritingScore',data=df)\n",
    "plt.title('Parent Education Wise Writing Score Range')\n",
    "plt.show()"
   ]
  },
  {
   "cell_type": "code",
   "execution_count": 37,
   "id": "62cab31f",
   "metadata": {
    "execution": {
     "iopub.execute_input": "2023-06-06T04:28:27.378571Z",
     "iopub.status.busy": "2023-06-06T04:28:27.378195Z",
     "iopub.status.idle": "2023-06-06T04:28:27.385130Z",
     "shell.execute_reply": "2023-06-06T04:28:27.383877Z"
    },
    "papermill": {
     "duration": 0.035233,
     "end_time": "2023-06-06T04:28:27.387416",
     "exception": false,
     "start_time": "2023-06-06T04:28:27.352183",
     "status": "completed"
    },
    "tags": []
   },
   "outputs": [],
   "source": [
    "df['percentage']=((df['MathScore']+df['ReadingScore']+df['WritingScore'])/300)*100"
   ]
  },
  {
   "cell_type": "code",
   "execution_count": 38,
   "id": "9438b12d",
   "metadata": {
    "execution": {
     "iopub.execute_input": "2023-06-06T04:28:27.439532Z",
     "iopub.status.busy": "2023-06-06T04:28:27.438017Z",
     "iopub.status.idle": "2023-06-06T04:28:27.452409Z",
     "shell.execute_reply": "2023-06-06T04:28:27.451203Z"
    },
    "papermill": {
     "duration": 0.042173,
     "end_time": "2023-06-06T04:28:27.454369",
     "exception": false,
     "start_time": "2023-06-06T04:28:27.412196",
     "status": "completed"
    },
    "tags": []
   },
   "outputs": [
    {
     "data": {
      "text/html": [
       "<div>\n",
       "<style scoped>\n",
       "    .dataframe tbody tr th:only-of-type {\n",
       "        vertical-align: middle;\n",
       "    }\n",
       "\n",
       "    .dataframe tbody tr th {\n",
       "        vertical-align: top;\n",
       "    }\n",
       "\n",
       "    .dataframe thead th {\n",
       "        text-align: right;\n",
       "    }\n",
       "</style>\n",
       "<table border=\"1\" class=\"dataframe\">\n",
       "  <thead>\n",
       "    <tr style=\"text-align: right;\">\n",
       "      <th></th>\n",
       "      <th>no_name</th>\n",
       "      <th>Gender</th>\n",
       "      <th>EthnicGroup</th>\n",
       "      <th>ParentEduc</th>\n",
       "      <th>LunchType</th>\n",
       "      <th>TestPrep</th>\n",
       "      <th>MathScore</th>\n",
       "      <th>ReadingScore</th>\n",
       "      <th>WritingScore</th>\n",
       "      <th>percentage</th>\n",
       "    </tr>\n",
       "  </thead>\n",
       "  <tbody>\n",
       "    <tr>\n",
       "      <th>0</th>\n",
       "      <td>0</td>\n",
       "      <td>female</td>\n",
       "      <td>Unknown</td>\n",
       "      <td>bachelor's degree</td>\n",
       "      <td>standard</td>\n",
       "      <td>none</td>\n",
       "      <td>71</td>\n",
       "      <td>71</td>\n",
       "      <td>74</td>\n",
       "      <td>72.000000</td>\n",
       "    </tr>\n",
       "    <tr>\n",
       "      <th>1</th>\n",
       "      <td>1</td>\n",
       "      <td>female</td>\n",
       "      <td>group C</td>\n",
       "      <td>bachelor's degree</td>\n",
       "      <td>standard</td>\n",
       "      <td>No</td>\n",
       "      <td>69</td>\n",
       "      <td>90</td>\n",
       "      <td>88</td>\n",
       "      <td>82.333333</td>\n",
       "    </tr>\n",
       "    <tr>\n",
       "      <th>2</th>\n",
       "      <td>2</td>\n",
       "      <td>female</td>\n",
       "      <td>group B</td>\n",
       "      <td>master's degree</td>\n",
       "      <td>standard</td>\n",
       "      <td>none</td>\n",
       "      <td>87</td>\n",
       "      <td>93</td>\n",
       "      <td>91</td>\n",
       "      <td>90.333333</td>\n",
       "    </tr>\n",
       "    <tr>\n",
       "      <th>3</th>\n",
       "      <td>3</td>\n",
       "      <td>male</td>\n",
       "      <td>group A</td>\n",
       "      <td>associate's degree</td>\n",
       "      <td>free/reduced</td>\n",
       "      <td>none</td>\n",
       "      <td>45</td>\n",
       "      <td>56</td>\n",
       "      <td>42</td>\n",
       "      <td>47.666667</td>\n",
       "    </tr>\n",
       "    <tr>\n",
       "      <th>4</th>\n",
       "      <td>4</td>\n",
       "      <td>male</td>\n",
       "      <td>group C</td>\n",
       "      <td>bachelor's degree</td>\n",
       "      <td>standard</td>\n",
       "      <td>none</td>\n",
       "      <td>76</td>\n",
       "      <td>78</td>\n",
       "      <td>75</td>\n",
       "      <td>76.333333</td>\n",
       "    </tr>\n",
       "  </tbody>\n",
       "</table>\n",
       "</div>"
      ],
      "text/plain": [
       "   no_name  Gender EthnicGroup          ParentEduc     LunchType TestPrep  \\\n",
       "0        0  female     Unknown   bachelor's degree      standard     none   \n",
       "1        1  female     group C   bachelor's degree      standard       No   \n",
       "2        2  female     group B     master's degree      standard     none   \n",
       "3        3    male     group A  associate's degree  free/reduced     none   \n",
       "4        4    male     group C   bachelor's degree      standard     none   \n",
       "\n",
       "   MathScore  ReadingScore  WritingScore  percentage  \n",
       "0         71            71            74   72.000000  \n",
       "1         69            90            88   82.333333  \n",
       "2         87            93            91   90.333333  \n",
       "3         45            56            42   47.666667  \n",
       "4         76            78            75   76.333333  "
      ]
     },
     "execution_count": 38,
     "metadata": {},
     "output_type": "execute_result"
    }
   ],
   "source": [
    "df.head()"
   ]
  },
  {
   "cell_type": "code",
   "execution_count": 39,
   "id": "54652583",
   "metadata": {
    "execution": {
     "iopub.execute_input": "2023-06-06T04:28:27.507573Z",
     "iopub.status.busy": "2023-06-06T04:28:27.507033Z",
     "iopub.status.idle": "2023-06-06T04:28:27.513696Z",
     "shell.execute_reply": "2023-06-06T04:28:27.512137Z"
    },
    "papermill": {
     "duration": 0.036225,
     "end_time": "2023-06-06T04:28:27.516697",
     "exception": false,
     "start_time": "2023-06-06T04:28:27.480472",
     "status": "completed"
    },
    "tags": []
   },
   "outputs": [],
   "source": [
    "def grade(x):\n",
    "    if x>=90.0:\n",
    "        return \"A\"\n",
    "    elif x>=80.0 and x<90.0:\n",
    "        return \"B\"\n",
    "    elif x>=70.0 and x<80.0:\n",
    "        return \"C\"\n",
    "    elif x>=60.0 and x<70.0:\n",
    "        return \"D\"\n",
    "    elif x>=50.0 and x<60.0:\n",
    "        return \"E\"\n",
    "    elif x>=40.0 and x<50.0:\n",
    "        return \"F\"\n",
    "    elif x>=30.0 and x<40.0:\n",
    "        return \"G\"\n",
    "    else:\n",
    "        return \"Fail\""
   ]
  },
  {
   "cell_type": "code",
   "execution_count": 40,
   "id": "713eaed4",
   "metadata": {
    "execution": {
     "iopub.execute_input": "2023-06-06T04:28:27.568198Z",
     "iopub.status.busy": "2023-06-06T04:28:27.567857Z",
     "iopub.status.idle": "2023-06-06T04:28:27.586152Z",
     "shell.execute_reply": "2023-06-06T04:28:27.584740Z"
    },
    "papermill": {
     "duration": 0.047343,
     "end_time": "2023-06-06T04:28:27.588345",
     "exception": false,
     "start_time": "2023-06-06T04:28:27.541002",
     "status": "completed"
    },
    "tags": []
   },
   "outputs": [],
   "source": [
    "df['grade_math']=df['MathScore'].apply(grade)"
   ]
  },
  {
   "cell_type": "code",
   "execution_count": 41,
   "id": "9e1fbbe2",
   "metadata": {
    "execution": {
     "iopub.execute_input": "2023-06-06T04:28:27.638075Z",
     "iopub.status.busy": "2023-06-06T04:28:27.637763Z",
     "iopub.status.idle": "2023-06-06T04:28:27.653811Z",
     "shell.execute_reply": "2023-06-06T04:28:27.652995Z"
    },
    "papermill": {
     "duration": 0.042925,
     "end_time": "2023-06-06T04:28:27.655475",
     "exception": false,
     "start_time": "2023-06-06T04:28:27.612550",
     "status": "completed"
    },
    "tags": []
   },
   "outputs": [],
   "source": [
    "df['grade_writing']=df['WritingScore'].apply(grade)"
   ]
  },
  {
   "cell_type": "code",
   "execution_count": 42,
   "id": "4eeb4d12",
   "metadata": {
    "execution": {
     "iopub.execute_input": "2023-06-06T04:28:27.706136Z",
     "iopub.status.busy": "2023-06-06T04:28:27.705572Z",
     "iopub.status.idle": "2023-06-06T04:28:27.721172Z",
     "shell.execute_reply": "2023-06-06T04:28:27.720515Z"
    },
    "papermill": {
     "duration": 0.043334,
     "end_time": "2023-06-06T04:28:27.723166",
     "exception": false,
     "start_time": "2023-06-06T04:28:27.679832",
     "status": "completed"
    },
    "tags": []
   },
   "outputs": [],
   "source": [
    "df['grade_reading']=df['ReadingScore'].apply(grade)"
   ]
  },
  {
   "cell_type": "code",
   "execution_count": 43,
   "id": "4b72d12c",
   "metadata": {
    "execution": {
     "iopub.execute_input": "2023-06-06T04:28:27.773080Z",
     "iopub.status.busy": "2023-06-06T04:28:27.772534Z",
     "iopub.status.idle": "2023-06-06T04:28:27.788462Z",
     "shell.execute_reply": "2023-06-06T04:28:27.787385Z"
    },
    "papermill": {
     "duration": 0.043113,
     "end_time": "2023-06-06T04:28:27.790650",
     "exception": false,
     "start_time": "2023-06-06T04:28:27.747537",
     "status": "completed"
    },
    "tags": []
   },
   "outputs": [],
   "source": [
    "df['grade']=df['percentage'].apply(grade)"
   ]
  },
  {
   "cell_type": "code",
   "execution_count": 44,
   "id": "598af808",
   "metadata": {
    "execution": {
     "iopub.execute_input": "2023-06-06T04:28:27.842234Z",
     "iopub.status.busy": "2023-06-06T04:28:27.841710Z",
     "iopub.status.idle": "2023-06-06T04:28:27.856442Z",
     "shell.execute_reply": "2023-06-06T04:28:27.855221Z"
    },
    "papermill": {
     "duration": 0.043238,
     "end_time": "2023-06-06T04:28:27.858608",
     "exception": false,
     "start_time": "2023-06-06T04:28:27.815370",
     "status": "completed"
    },
    "tags": []
   },
   "outputs": [
    {
     "data": {
      "text/html": [
       "<div>\n",
       "<style scoped>\n",
       "    .dataframe tbody tr th:only-of-type {\n",
       "        vertical-align: middle;\n",
       "    }\n",
       "\n",
       "    .dataframe tbody tr th {\n",
       "        vertical-align: top;\n",
       "    }\n",
       "\n",
       "    .dataframe thead th {\n",
       "        text-align: right;\n",
       "    }\n",
       "</style>\n",
       "<table border=\"1\" class=\"dataframe\">\n",
       "  <thead>\n",
       "    <tr style=\"text-align: right;\">\n",
       "      <th></th>\n",
       "      <th>no_name</th>\n",
       "      <th>Gender</th>\n",
       "      <th>EthnicGroup</th>\n",
       "      <th>ParentEduc</th>\n",
       "      <th>LunchType</th>\n",
       "      <th>TestPrep</th>\n",
       "      <th>MathScore</th>\n",
       "      <th>ReadingScore</th>\n",
       "      <th>WritingScore</th>\n",
       "      <th>percentage</th>\n",
       "      <th>grade_math</th>\n",
       "      <th>grade_writing</th>\n",
       "      <th>grade_reading</th>\n",
       "      <th>grade</th>\n",
       "    </tr>\n",
       "  </thead>\n",
       "  <tbody>\n",
       "    <tr>\n",
       "      <th>0</th>\n",
       "      <td>0</td>\n",
       "      <td>female</td>\n",
       "      <td>Unknown</td>\n",
       "      <td>bachelor's degree</td>\n",
       "      <td>standard</td>\n",
       "      <td>none</td>\n",
       "      <td>71</td>\n",
       "      <td>71</td>\n",
       "      <td>74</td>\n",
       "      <td>72.000000</td>\n",
       "      <td>C</td>\n",
       "      <td>C</td>\n",
       "      <td>C</td>\n",
       "      <td>C</td>\n",
       "    </tr>\n",
       "    <tr>\n",
       "      <th>1</th>\n",
       "      <td>1</td>\n",
       "      <td>female</td>\n",
       "      <td>group C</td>\n",
       "      <td>bachelor's degree</td>\n",
       "      <td>standard</td>\n",
       "      <td>No</td>\n",
       "      <td>69</td>\n",
       "      <td>90</td>\n",
       "      <td>88</td>\n",
       "      <td>82.333333</td>\n",
       "      <td>D</td>\n",
       "      <td>B</td>\n",
       "      <td>A</td>\n",
       "      <td>B</td>\n",
       "    </tr>\n",
       "    <tr>\n",
       "      <th>2</th>\n",
       "      <td>2</td>\n",
       "      <td>female</td>\n",
       "      <td>group B</td>\n",
       "      <td>master's degree</td>\n",
       "      <td>standard</td>\n",
       "      <td>none</td>\n",
       "      <td>87</td>\n",
       "      <td>93</td>\n",
       "      <td>91</td>\n",
       "      <td>90.333333</td>\n",
       "      <td>B</td>\n",
       "      <td>A</td>\n",
       "      <td>A</td>\n",
       "      <td>A</td>\n",
       "    </tr>\n",
       "    <tr>\n",
       "      <th>3</th>\n",
       "      <td>3</td>\n",
       "      <td>male</td>\n",
       "      <td>group A</td>\n",
       "      <td>associate's degree</td>\n",
       "      <td>free/reduced</td>\n",
       "      <td>none</td>\n",
       "      <td>45</td>\n",
       "      <td>56</td>\n",
       "      <td>42</td>\n",
       "      <td>47.666667</td>\n",
       "      <td>F</td>\n",
       "      <td>F</td>\n",
       "      <td>E</td>\n",
       "      <td>F</td>\n",
       "    </tr>\n",
       "    <tr>\n",
       "      <th>4</th>\n",
       "      <td>4</td>\n",
       "      <td>male</td>\n",
       "      <td>group C</td>\n",
       "      <td>bachelor's degree</td>\n",
       "      <td>standard</td>\n",
       "      <td>none</td>\n",
       "      <td>76</td>\n",
       "      <td>78</td>\n",
       "      <td>75</td>\n",
       "      <td>76.333333</td>\n",
       "      <td>C</td>\n",
       "      <td>C</td>\n",
       "      <td>C</td>\n",
       "      <td>C</td>\n",
       "    </tr>\n",
       "  </tbody>\n",
       "</table>\n",
       "</div>"
      ],
      "text/plain": [
       "   no_name  Gender EthnicGroup          ParentEduc     LunchType TestPrep  \\\n",
       "0        0  female     Unknown   bachelor's degree      standard     none   \n",
       "1        1  female     group C   bachelor's degree      standard       No   \n",
       "2        2  female     group B     master's degree      standard     none   \n",
       "3        3    male     group A  associate's degree  free/reduced     none   \n",
       "4        4    male     group C   bachelor's degree      standard     none   \n",
       "\n",
       "   MathScore  ReadingScore  WritingScore  percentage grade_math grade_writing  \\\n",
       "0         71            71            74   72.000000          C             C   \n",
       "1         69            90            88   82.333333          D             B   \n",
       "2         87            93            91   90.333333          B             A   \n",
       "3         45            56            42   47.666667          F             F   \n",
       "4         76            78            75   76.333333          C             C   \n",
       "\n",
       "  grade_reading grade  \n",
       "0             C     C  \n",
       "1             A     B  \n",
       "2             A     A  \n",
       "3             E     F  \n",
       "4             C     C  "
      ]
     },
     "execution_count": 44,
     "metadata": {},
     "output_type": "execute_result"
    }
   ],
   "source": [
    "df.head()"
   ]
  },
  {
   "cell_type": "code",
   "execution_count": 45,
   "id": "c7d6bcb8",
   "metadata": {
    "execution": {
     "iopub.execute_input": "2023-06-06T04:28:27.911574Z",
     "iopub.status.busy": "2023-06-06T04:28:27.911207Z",
     "iopub.status.idle": "2023-06-06T04:28:28.180653Z",
     "shell.execute_reply": "2023-06-06T04:28:28.179030Z"
    },
    "papermill": {
     "duration": 0.298872,
     "end_time": "2023-06-06T04:28:28.183188",
     "exception": false,
     "start_time": "2023-06-06T04:28:27.884316",
     "status": "completed"
    },
    "tags": []
   },
   "outputs": [
    {
     "data": {
      "image/png": "[encoded data removed]",
      "text/plain": [
       "<Figure size 432x288 with 1 Axes>"
      ]
     },
     "metadata": {
      "needs_background": "light"
     },
     "output_type": "display_data"
    }
   ],
   "source": [
    "sns.countplot(y='Gender',hue='grade_math',data=df)\n",
    "plt.title('Male vs Female Math Grade Count')\n",
    "plt.show()"
   ]
  },
  {
   "cell_type": "code",
   "execution_count": 46,
   "id": "37a6f3d9",
   "metadata": {
    "execution": {
     "iopub.execute_input": "2023-06-06T04:28:28.235611Z",
     "iopub.status.busy": "2023-06-06T04:28:28.235223Z",
     "iopub.status.idle": "2023-06-06T04:28:28.535496Z",
     "shell.execute_reply": "2023-06-06T04:28:28.533868Z"
    },
    "papermill": {
     "duration": 0.328787,
     "end_time": "2023-06-06T04:28:28.537616",
     "exception": false,
     "start_time": "2023-06-06T04:28:28.208829",
     "status": "completed"
    },
    "tags": []
   },
   "outputs": [
    {
     "data": {
      "image/png": "[encoded data removed]",
      "text/plain": [
       "<Figure size 432x288 with 1 Axes>"
      ]
     },
     "metadata": {
      "needs_background": "light"
     },
     "output_type": "display_data"
    }
   ],
   "source": [
    "sns.countplot(y='Gender',hue='grade_writing',data=df)\n",
    "plt.title('Male vs Female Writing Grade Count')\n",
    "plt.show()"
   ]
  },
  {
   "cell_type": "code",
   "execution_count": 47,
   "id": "59b7b129",
   "metadata": {
    "execution": {
     "iopub.execute_input": "2023-06-06T04:28:28.590883Z",
     "iopub.status.busy": "2023-06-06T04:28:28.589902Z",
     "iopub.status.idle": "2023-06-06T04:28:28.858196Z",
     "shell.execute_reply": "2023-06-06T04:28:28.857311Z"
    },
    "papermill": {
     "duration": 0.29679,
     "end_time": "2023-06-06T04:28:28.860152",
     "exception": false,
     "start_time": "2023-06-06T04:28:28.563362",
     "status": "completed"
    },
    "tags": []
   },
   "outputs": [
    {
     "data": {
      "image/png": "[encoded data removed]",
      "text/plain": [
       "<Figure size 432x288 with 1 Axes>"
      ]
     },
     "metadata": {
      "needs_background": "light"
     },
     "output_type": "display_data"
    }
   ],
   "source": [
    "sns.countplot(y='Gender',hue='grade_reading',data=df)\n",
    "plt.title('Male vs Female reading Grade Count')\n",
    "plt.show()"
   ]
  },
  {
   "cell_type": "code",
   "execution_count": 48,
   "id": "6881e8d9",
   "metadata": {
    "execution": {
     "iopub.execute_input": "2023-06-06T04:28:28.914460Z",
     "iopub.status.busy": "2023-06-06T04:28:28.913915Z",
     "iopub.status.idle": "2023-06-06T04:28:29.209928Z",
     "shell.execute_reply": "2023-06-06T04:28:29.209075Z"
    },
    "papermill": {
     "duration": 0.325691,
     "end_time": "2023-06-06T04:28:29.211852",
     "exception": false,
     "start_time": "2023-06-06T04:28:28.886161",
     "status": "completed"
    },
    "tags": []
   },
   "outputs": [
    {
     "data": {
      "image/png": "[encoded data removed]",
      "text/plain": [
       "<Figure size 432x288 with 1 Axes>"
      ]
     },
     "metadata": {
      "needs_background": "light"
     },
     "output_type": "display_data"
    }
   ],
   "source": [
    "sns.countplot(y='grade_math',hue='ParentEduc',data=df)\n",
    "plt.title('Math Grade Count By Parent Education')\n",
    "plt.show()"
   ]
  },
  {
   "cell_type": "code",
   "execution_count": 49,
   "id": "7d872502",
   "metadata": {
    "execution": {
     "iopub.execute_input": "2023-06-06T04:28:29.266044Z",
     "iopub.status.busy": "2023-06-06T04:28:29.265294Z",
     "iopub.status.idle": "2023-06-06T04:28:29.564776Z",
     "shell.execute_reply": "2023-06-06T04:28:29.563664Z"
    },
    "papermill": {
     "duration": 0.329642,
     "end_time": "2023-06-06T04:28:29.567359",
     "exception": false,
     "start_time": "2023-06-06T04:28:29.237717",
     "status": "completed"
    },
    "tags": []
   },
   "outputs": [
    {
     "data": {
      "image/png": "[encoded data removed]",
      "text/plain": [
       "<Figure size 432x288 with 1 Axes>"
      ]
     },
     "metadata": {
      "needs_background": "light"
     },
     "output_type": "display_data"
    }
   ],
   "source": [
    "sns.countplot(y='grade_reading',hue='ParentEduc',data=df)\n",
    "plt.title('reading Grade Count By Parent Education')\n",
    "plt.show()"
   ]
  },
  {
   "cell_type": "code",
   "execution_count": 50,
   "id": "ba6d6672",
   "metadata": {
    "execution": {
     "iopub.execute_input": "2023-06-06T04:28:29.623549Z",
     "iopub.status.busy": "2023-06-06T04:28:29.623156Z",
     "iopub.status.idle": "2023-06-06T04:28:29.920151Z",
     "shell.execute_reply": "2023-06-06T04:28:29.918848Z"
    },
    "papermill": {
     "duration": 0.328258,
     "end_time": "2023-06-06T04:28:29.922511",
     "exception": false,
     "start_time": "2023-06-06T04:28:29.594253",
     "status": "completed"
    },
    "tags": []
   },
   "outputs": [
    {
     "data": {
      "image/png": "[encoded data removed]",
      "text/plain": [
       "<Figure size 432x288 with 1 Axes>"
      ]
     },
     "metadata": {
      "needs_background": "light"
     },
     "output_type": "display_data"
    }
   ],
   "source": [
    "sns.countplot(y='grade_writing',hue='ParentEduc',data=df)\n",
    "plt.title('Writing Grade Count By Parent Education')\n",
    "plt.show()"
   ]
  },
  {
   "cell_type": "code",
   "execution_count": 51,
   "id": "860e766d",
   "metadata": {
    "execution": {
     "iopub.execute_input": "2023-06-06T04:28:29.980951Z",
     "iopub.status.busy": "2023-06-06T04:28:29.980620Z",
     "iopub.status.idle": "2023-06-06T04:28:30.260032Z",
     "shell.execute_reply": "2023-06-06T04:28:30.258537Z"
    },
    "papermill": {
     "duration": 0.310572,
     "end_time": "2023-06-06T04:28:30.262848",
     "exception": false,
     "start_time": "2023-06-06T04:28:29.952276",
     "status": "completed"
    },
    "tags": []
   },
   "outputs": [
    {
     "data": {
      "image/png": "[encoded data removed]",
      "text/plain": [
       "<Figure size 432x288 with 1 Axes>"
      ]
     },
     "metadata": {
      "needs_background": "light"
     },
     "output_type": "display_data"
    }
   ],
   "source": [
    "sns.countplot(x='Gender',hue='grade',data=df)\n",
    "plt.title('Male vs Female Grade Count')\n",
    "plt.show()"
   ]
  },
  {
   "cell_type": "code",
   "execution_count": 53,
   "id": "093fc21d",
   "metadata": {
    "execution": {
     "iopub.execute_input": "2023-06-06T04:28:30.319516Z",
     "iopub.status.busy": "2023-06-06T04:28:30.319132Z",
     "iopub.status.idle": "2023-06-06T04:28:30.629939Z",
     "shell.execute_reply": "2023-06-06T04:28:30.628967Z"
    },
    "papermill": {
     "duration": 0.342078,
     "end_time": "2023-06-06T04:28:30.632231",
     "exception": false,
     "start_time": "2023-06-06T04:28:30.290153",
     "status": "completed"
    },
    "tags": []
   },
   "outputs": [
    {
     "data": {
      "image/png": "[encoded data removed]",
      "text/plain": [
       "<Figure size 432x288 with 1 Axes>"
      ]
     },
     "metadata": {
      "needs_background": "light"
     },
     "output_type": "display_data"
    }
   ],
   "source": [
    "sns.countplot(y='ParentEduc',hue='grade',data=df)\n",
    "plt.title('Student Grade Count By ParentEduc')\n",
    "plt.show()"
   ]
  },
  {
   "cell_type": "code",
   "execution_count": null,
   "id": "ef6b9501",
   "metadata": {},
   "outputs": [],
   "source": []
  },
  {
   "cell_type": "code",
   "execution_count": null,
   "id": "a9fb80a3",
   "metadata": {},
   "outputs": [],
   "source": []
  },
  {
   "cell_type": "code",
   "execution_count": null,
   "id": "22ea157f",
   "metadata": {},
   "outputs": [],
   "source": []
  }
 ],
 "metadata": {
  "kernelspec": {
   "display_name": "Python 3 (ipykernel)",
   "language": "python",
   "name": "python3"
  },
  "language_info": {
   "codemirror_mode": {
    "name": "ipython",
    "version": 3
   },
   "file_extension": ".py",
   "mimetype": "text/x-python",
   "name": "python",
   "nbconvert_exporter": "python",
   "pygments_lexer": "ipython3",
   "version": "3.9.12"
  },
  "papermill": {
   "default_parameters": {},
   "duration": 26.305553,
   "end_time": "2023-06-06T04:28:34.635685",
   "environment_variables": {},
   "exception": null,
   "input_path": "__notebook__.ipynb",
   "output_path": "__notebook__.ipynb",
   "parameters": {},
   "start_time": "2023-06-06T04:28:08.330132",
   "version": "2.4.0"
  }
 },
 "nbformat": 4,
 "nbformat_minor": 5
}
